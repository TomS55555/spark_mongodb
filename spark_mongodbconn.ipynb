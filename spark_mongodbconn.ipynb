{
 "cells": [
  {
   "cell_type": "markdown",
   "metadata": {},
   "source": [
    "# PySpark + MongoDB for spectroscopy-based plastic classification"
   ]
  },
  {
   "cell_type": "markdown",
   "metadata": {},
   "source": [
    "Make sure to install the correct versions of pyspark, python and mongodb connector:\n",
    "~~~\n",
    "    conda create -n sparkenv python=3.9\n",
    "    pip install pyspark==3.2.0\n",
    "    pip install mongo-spark-connector\n",
    "~~~"
   ]
  },
  {
   "cell_type": "markdown",
   "metadata": {},
   "source": [
    "Also make sure to use java version 11, use the following commands on Linux to find and change your installed java jdk's:\n",
    "~~~\n",
    "update-java-alternatives --list\n",
    "sudo update-java-alternatives --set java-1.11.0-openjdk-amd64\n",
    "~~~"
   ]
  },
  {
   "cell_type": "code",
   "execution_count": 20,
   "metadata": {},
   "outputs": [
    {
     "data": {
      "text/plain": [
       "True"
      ]
     },
     "execution_count": 20,
     "metadata": {},
     "output_type": "execute_result"
    }
   ],
   "source": [
    "from pyspark.sql import SparkSession\n",
    "from pyspark.sql.functions import col, from_json, udf \n",
    "from pyspark.sql.types import ArrayType, FloatType,\n",
    "from pyspark.ml.functions import array_to_vector\n",
    "from pyspark.ml.feature import StringIndexer\n",
    "from pyspark.ml.classification import LogisticRegression\n",
    "from pyspark.ml import Pipeline\n",
    "import os \n",
    "from dotenv import load_dotenv \n",
    "load_dotenv() # load credentials"
   ]
  },
  {
   "cell_type": "code",
   "execution_count": 7,
   "metadata": {},
   "outputs": [
    {
     "name": "stderr",
     "output_type": "stream",
     "text": [
      "24/04/23 23:27:14 WARN Utils: Your hostname, tom-desktop resolves to a loopback address: 127.0.1.1; using 192.168.1.197 instead (on interface eno1)\n",
      "24/04/23 23:27:14 WARN Utils: Set SPARK_LOCAL_IP if you need to bind to another address\n",
      "WARNING: An illegal reflective access operation has occurred\n",
      "WARNING: Illegal reflective access by org.apache.spark.unsafe.Platform (file:/home/tom/anaconda3/envs/sparkenv/lib/python3.9/site-packages/pyspark/jars/spark-unsafe_2.12-3.2.0.jar) to constructor java.nio.DirectByteBuffer(long,int)\n",
      "WARNING: Please consider reporting this to the maintainers of org.apache.spark.unsafe.Platform\n",
      "WARNING: Use --illegal-access=warn to enable warnings of further illegal reflective access operations\n",
      "WARNING: All illegal access operations will be denied in a future release\n",
      "Ivy Default Cache set to: /home/tom/.ivy2/cache\n",
      "The jars for the packages stored in: /home/tom/.ivy2/jars\n",
      "org.mongodb.spark#mongo-spark-connector added as a dependency\n",
      ":: resolving dependencies :: org.apache.spark#spark-submit-parent-8638d58a-4259-4933-b02a-1fb1749b3312;1.0\n",
      "\tconfs: [default]\n"
     ]
    },
    {
     "name": "stdout",
     "output_type": "stream",
     "text": [
      ":: loading settings :: url = jar:file:/home/tom/anaconda3/envs/sparkenv/lib/python3.9/site-packages/pyspark/jars/ivy-2.5.0.jar!/org/apache/ivy/core/settings/ivysettings.xml\n"
     ]
    },
    {
     "name": "stderr",
     "output_type": "stream",
     "text": [
      "\tfound org.mongodb.spark#mongo-spark-connector;10.0.3 in central\n",
      "\tfound org.mongodb#mongodb-driver-sync;4.5.1 in central\n",
      "\t[4.5.1] org.mongodb#mongodb-driver-sync;[4.5.0,4.5.99)\n",
      "\tfound org.mongodb#bson;4.5.1 in central\n",
      "\tfound org.mongodb#mongodb-driver-core;4.5.1 in central\n",
      ":: resolution report :: resolve 1952ms :: artifacts dl 4ms\n",
      "\t:: modules in use:\n",
      "\torg.mongodb#bson;4.5.1 from central in [default]\n",
      "\torg.mongodb#mongodb-driver-core;4.5.1 from central in [default]\n",
      "\torg.mongodb#mongodb-driver-sync;4.5.1 from central in [default]\n",
      "\torg.mongodb.spark#mongo-spark-connector;10.0.3 from central in [default]\n",
      "\t---------------------------------------------------------------------\n",
      "\t|                  |            modules            ||   artifacts   |\n",
      "\t|       conf       | number| search|dwnlded|evicted|| number|dwnlded|\n",
      "\t---------------------------------------------------------------------\n",
      "\t|      default     |   4   |   1   |   0   |   0   ||   4   |   0   |\n",
      "\t---------------------------------------------------------------------\n",
      ":: retrieving :: org.apache.spark#spark-submit-parent-8638d58a-4259-4933-b02a-1fb1749b3312\n",
      "\tconfs: [default]\n",
      "\t0 artifacts copied, 4 already retrieved (0kB/3ms)\n",
      "24/04/23 23:27:16 WARN NativeCodeLoader: Unable to load native-hadoop library for your platform... using builtin-java classes where applicable\n",
      "Using Spark's default log4j profile: org/apache/spark/log4j-defaults.properties\n",
      "Setting default log level to \"WARN\".\n",
      "To adjust logging level use sc.setLogLevel(newLevel). For SparkR, use setLogLevel(newLevel).\n"
     ]
    }
   ],
   "source": [
    "CONN_STRING = os.getenv('CONN_STRING')\n",
    "my_spark = SparkSession \\\n",
    "    .builder \\\n",
    "    .appName(\"myApp\") \\\n",
    "    .config(\"spark.mongodb.read.connection.uri\", CONN_STRING) \\\n",
    "    .config(\"spark.mongodb.write.connection.uri\", CONN_STRING) \\\n",
    "    .config(\"spark.jars.packages\", \"org.mongodb.spark:mongo-spark-connector:10.0.3\") \\\n",
    "    .config(\"spark.driver.memory\", '8g') \\\n",
    "    .getOrCreate()"
   ]
  },
  {
   "cell_type": "code",
   "execution_count": 30,
   "metadata": {},
   "outputs": [
    {
     "data": {
      "text/plain": [
       "DataFrame[MIRspec_data: array<string>, NIRspec_data: array<string>, RCspec_data: array<string>, _id: string, collectionDate: string, flag: boolean, labels: array<string>, location: string, meta_data: struct<citation:string,color:string,data measured [ISO8601]:string,description:string,file Revision:string,file multi:string,group internal:string,hierarchy1:string,hierarchy2:string,hierarchy3:string,hierarchy4:string,instrument:string,private label/file name:string,type:string,wavenumber:string>, plasticNum: string]"
      ]
     },
     "execution_count": 30,
     "metadata": {},
     "output_type": "execute_result"
    }
   ],
   "source": [
    "df = (my_spark.read\n",
    "      .format(\"mongodb\")\n",
    "      .option(\"database\", \"recyclear\")\n",
    "      .option(\"collection\", \"recyclear\")\n",
    "      .option(\"sampleSize\", 100)\n",
    "      .option('uri', CONN_STRING)\n",
    "      .load())\n",
    "df.cache() # cache the dataframe since we will be using it a lot"
   ]
  },
  {
   "cell_type": "code",
   "execution_count": 9,
   "metadata": {},
   "outputs": [
    {
     "name": "stdout",
     "output_type": "stream",
     "text": [
      "root\n",
      " |-- MIRspec_data: array (nullable = true)\n",
      " |    |-- element: string (containsNull = true)\n",
      " |-- NIRspec_data: array (nullable = true)\n",
      " |    |-- element: string (containsNull = true)\n",
      " |-- RCspec_data: array (nullable = true)\n",
      " |    |-- element: string (containsNull = true)\n",
      " |-- _id: string (nullable = true)\n",
      " |-- collectionDate: string (nullable = true)\n",
      " |-- flag: boolean (nullable = true)\n",
      " |-- labels: array (nullable = true)\n",
      " |    |-- element: string (containsNull = true)\n",
      " |-- location: string (nullable = true)\n",
      " |-- meta_data: struct (nullable = true)\n",
      " |    |-- citation: string (nullable = true)\n",
      " |    |-- color: string (nullable = true)\n",
      " |    |-- data measured [ISO8601]: string (nullable = true)\n",
      " |    |-- description: string (nullable = true)\n",
      " |    |-- file Revision: string (nullable = true)\n",
      " |    |-- file multi: string (nullable = true)\n",
      " |    |-- group internal: string (nullable = true)\n",
      " |    |-- hierarchy1: string (nullable = true)\n",
      " |    |-- hierarchy2: string (nullable = true)\n",
      " |    |-- hierarchy3: string (nullable = true)\n",
      " |    |-- hierarchy4: string (nullable = true)\n",
      " |    |-- instrument: string (nullable = true)\n",
      " |    |-- private label/file name: string (nullable = true)\n",
      " |    |-- type: string (nullable = true)\n",
      " |    |-- wavenumber: string (nullable = true)\n",
      " |-- plasticNum: string (nullable = true)\n",
      "\n"
     ]
    }
   ],
   "source": [
    "df.printSchema()"
   ]
  },
  {
   "cell_type": "markdown",
   "metadata": {},
   "source": [
    "Our training data consists of both a set of 'Virgin' materials, which have the location='V' tag, and materials that we collected on 02-08-2023 and on 09-08-2023 at ECOWERF, which we labelled using a labo spectrometer (MIRspec_data)."
   ]
  },
  {
   "cell_type": "code",
   "execution_count": 31,
   "metadata": {},
   "outputs": [
    {
     "name": "stderr",
     "output_type": "stream",
     "text": [
      "[Stage 9:>                                                          (0 + 1) / 1]\r"
     ]
    },
    {
     "name": "stdout",
     "output_type": "stream",
     "text": [
      "+--------------------+------------+--------------------+--------------------+--------------+-----+--------------------+--------+--------------------+----------+\n",
      "|        MIRspec_data|NIRspec_data|         RCspec_data|                 _id|collectionDate| flag|              labels|location|           meta_data|plasticNum|\n",
      "+--------------------+------------+--------------------+--------------------+--------------+-----+--------------------+--------+--------------------+----------+\n",
      "|[[2499.0191349895...|        null|[[883.2443, 887.3...|64dcf97d03a2a04b7...|    02-08-2023|false|[PP, PP, PP, PP, ...|       E|{null, null, null...|         7|\n",
      "+--------------------+------------+--------------------+--------------------+--------------+-----+--------------------+--------+--------------------+----------+\n",
      "only showing top 1 row\n",
      "\n"
     ]
    },
    {
     "name": "stderr",
     "output_type": "stream",
     "text": [
      "                                                                                \r"
     ]
    }
   ],
   "source": [
    "df = df.filter((col('collectionDate') == '09-08-2023') | (col('collectionDate') == '02-08-2023') | (col('location') == 'V'))\n",
    "df.show(1)"
   ]
  },
  {
   "cell_type": "markdown",
   "metadata": {},
   "source": [
    "The labels are in the 'hierarchy4' field of the meta data:"
   ]
  },
  {
   "cell_type": "code",
   "execution_count": 32,
   "metadata": {},
   "outputs": [],
   "source": [
    "LABELS_TO_USE = ['PP', 'HDPE', 'PVC', 'PC', 'ABS', 'PS']\n",
    "df = df.withColumn('ys',col('meta_data.hierarchy4'))\n",
    "df = df.filter(col(\"ys\").isin(LABELS_TO_USE))"
   ]
  },
  {
   "cell_type": "markdown",
   "metadata": {},
   "source": [
    "And our spectra are in RCspec_data, which is a matrix where the first row consists of the wavelenghts (x-axis) and the other rows are spectroscopy measurements of the object. For our ML algorithms, we will average those measurements since they are highly correlated."
   ]
  },
  {
   "cell_type": "code",
   "execution_count": 33,
   "metadata": {},
   "outputs": [
    {
     "name": "stdout",
     "output_type": "stream",
     "text": [
      "+---+--------------------+\n",
      "| ys|     parsed_features|\n",
      "+---+--------------------+\n",
      "| PP|[[883.2443, 887.3...|\n",
      "| PC|[[883.2443, 887.3...|\n",
      "| PP|[[883.2443, 887.3...|\n",
      "| PC|[[883.2443, 887.3...|\n",
      "| PC|[[883.2443, 887.3...|\n",
      "+---+--------------------+\n",
      "only showing top 5 rows\n",
      "\n"
     ]
    }
   ],
   "source": [
    "df = df.select('RCspec_data', 'ys') # drop the columns we don't need\n",
    "df = df.filter(col('RCspec_data').isNotNull()) # drop rows containg Nulls\n",
    "df = df.withColumn('parsed_features', from_json(col('RCspec_data').cast('string'), schema=ArrayType(ArrayType(FloatType())))) # parse the spectra\n",
    "df = df.drop('RCspec_data') # drop the unparsed spectra\n",
    "df.show(5)"
   ]
  },
  {
   "cell_type": "markdown",
   "metadata": {},
   "source": [
    "We use a UDF to take the average of the spectra across the first dimension"
   ]
  },
  {
   "cell_type": "code",
   "execution_count": 34,
   "metadata": {},
   "outputs": [],
   "source": [
    "import pandas as pd\n",
    "import numpy as np\n",
    "\n",
    "@udf(returnType=ArrayType(FloatType()))\n",
    "def myudf(spectra):\n",
    "    if spectra is None or type(spectra) != list:\n",
    "        return None \n",
    "    nparr = np.array(spectra, dtype=np.float32)\n",
    "    if len(nparr.shape) == 2:\n",
    "        result = np.mean(nparr[1:, 52:231], axis=0)\n",
    "        result = (result - np.mean(result)) / np.std(result)\n",
    "        return result.tolist()\n",
    "    return None"
   ]
  },
  {
   "cell_type": "code",
   "execution_count": 35,
   "metadata": {},
   "outputs": [],
   "source": [
    "df = df.withColumn('features', myudf(col('parsed_features')))\n",
    "df = df.drop('parsed_features') # we don't need the parsed features anymore"
   ]
  },
  {
   "cell_type": "code",
   "execution_count": 39,
   "metadata": {},
   "outputs": [
    {
     "name": "stderr",
     "output_type": "stream",
     "text": [
      "                                                                                \r"
     ]
    },
    {
     "data": {
      "text/plain": [
       "0"
      ]
     },
     "execution_count": 39,
     "metadata": {},
     "output_type": "execute_result"
    }
   ],
   "source": [
    "df.filter(col('parsed_features').isNull()).count() # make sure features are properly parsed"
   ]
  },
  {
   "cell_type": "code",
   "execution_count": 40,
   "metadata": {},
   "outputs": [],
   "source": [
    "df = df.withColumn(\"X\", array_to_vector(col(\"features\"))) # transform to vector format for pyspark.ml\n",
    "df = df.drop(\"features\")"
   ]
  },
  {
   "cell_type": "markdown",
   "metadata": {},
   "source": [
    "Let's look at the distribution of the labels before applying ML:"
   ]
  },
  {
   "cell_type": "code",
   "execution_count": 54,
   "metadata": {},
   "outputs": [
    {
     "data": {
      "image/png": "[encoded data removed]",
      "text/plain": [
       "<Figure size 640x480 with 1 Axes>"
      ]
     },
     "metadata": {},
     "output_type": "display_data"
    }
   ],
   "source": [
    "# Use seaborn for plotting the bar chart\n",
    "import seaborn as sns\n",
    "import matplotlib.pyplot as plt \n",
    "\n",
    "category_counts = df.groupBy(\"ys\").count()\n",
    "category_counts_pd = category_counts.toPandas()\n",
    "total_count = category_counts_pd['count'].sum()\n",
    "category_counts_pd['relative_frequency'] = category_counts_pd['count'] / total_count * 100\n",
    "\n",
    "ax = sns.barplot(x=\"ys\", y=\"relative_frequency\", data=category_counts_pd)\n",
    "fun = lambda x: x / total_count\n",
    "inv = lambda x: x * total_count\n",
    "ax2 = ax.secondary_yaxis(\"right\", functions=(fun, inv))\n",
    "ax2.set_ylabel('Relative frequency')\n",
    "ax.set_xlabel(\"Category\")\n",
    "ax.set_ylabel(\"Absolute frequency\")\n",
    "for i, v in enumerate(category_counts_pd['relative_frequency']):\n",
    "    ax.text(i, category_counts_pd['count'][i]/2.3, f'{v:.1f}%', ha='center', va='bottom', fontsize=10)\n",
    "plt.title(\"Distribution of the labels\")\n",
    "plt.show()\n"
   ]
  },
  {
   "cell_type": "markdown",
   "metadata": {},
   "source": [
    "The dataset is highly unbalanced and we should therefore use a metric such as the f1 score that accounts for this. A lower bound for accuracy is already 56.9%."
   ]
  },
  {
   "cell_type": "markdown",
   "metadata": {},
   "source": [
    "## Let's train a logistic regression model on this dataset"
   ]
  },
  {
   "cell_type": "code",
   "execution_count": 60,
   "metadata": {},
   "outputs": [],
   "source": [
    "trainDF, testDF = df.randomSplit([.8, .2], seed=41) # create train, and test split"
   ]
  },
  {
   "cell_type": "code",
   "execution_count": 61,
   "metadata": {},
   "outputs": [
    {
     "name": "stderr",
     "output_type": "stream",
     "text": [
      "                                                                                \r"
     ]
    }
   ],
   "source": [
    "lr = LogisticRegression(featuresCol=\"X\", labelCol=\"Y\")\n",
    "stringIndexer = StringIndexer(inputCol='ys', outputCol='Y', handleInvalid='skip') # the pyspark.ml.LogisticRegression expects floats as labels\n",
    "pipeline = Pipeline(stages=[stringIndexer, lr])\n",
    "pipelineModel = pipeline.fit(trainDF)\n",
    "predDF = pipelineModel.transform(testDF)"
   ]
  },
  {
   "cell_type": "code",
   "execution_count": 62,
   "metadata": {},
   "outputs": [
    {
     "name": "stderr",
     "output_type": "stream",
     "text": [
      "[Stage 225:==================================================>      (8 + 1) / 9]\r"
     ]
    },
    {
     "name": "stdout",
     "output_type": "stream",
     "text": [
      "Mean accuracy:  1.0\n",
      "Mean f1 score:  1.0\n"
     ]
    },
    {
     "name": "stderr",
     "output_type": "stream",
     "text": [
      "                                                                                \r"
     ]
    }
   ],
   "source": [
    "from pyspark.ml.evaluation import MulticlassClassificationEvaluator\n",
    "evaluator = MulticlassClassificationEvaluator(\n",
    "    predictionCol=\"prediction\",\n",
    "    labelCol=\"Y\",\n",
    "    metricName=\"accuracy\"\n",
    ")\n",
    "acc = evaluator.evaluate(predDF)\n",
    "evaluator.setMetricName('f1')\n",
    "f1 = evaluator.evaluate(predDF)\n",
    "print('Mean accuracy: ', acc)\n",
    "print(\"Mean f1 score: \", f1)"
   ]
  }
 ],
 "metadata": {
  "kernelspec": {
   "display_name": "finance",
   "language": "python",
   "name": "python3"
  },
  "language_info": {
   "codemirror_mode": {
    "name": "ipython",
    "version": 3
   },
   "file_extension": ".py",
   "mimetype": "text/x-python",
   "name": "python",
   "nbconvert_exporter": "python",
   "pygments_lexer": "ipython3",
   "version": "3.9.19"
  }
 },
 "nbformat": 4,
 "nbformat_minor": 2
}
